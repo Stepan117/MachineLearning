{
 "cells": [
  {
   "cell_type": "markdown",
   "metadata": {},
   "source": [
    "### ЛР3 Овчинников Степан"
   ]
  },
  {
   "cell_type": "code",
   "execution_count": 1,
   "metadata": {},
   "outputs": [],
   "source": [
    "import numpy as np\n",
    "import pandas as pd\n",
    "import seaborn as sns\n",
    "import matplotlib.pyplot as plt\n",
    "%matplotlib inline\n",
    "from sklearn.impute import SimpleImputer\n",
    "from sklearn.model_selection import train_test_split"
   ]
  },
  {
   "cell_type": "code",
   "execution_count": 2,
   "metadata": {},
   "outputs": [],
   "source": [
    "import numpy as np\n",
    "import pandas as pd\n",
    "from typing import Dict, Tuple\n",
    "from scipy import stats\n",
    "from sklearn.datasets import load_iris, load_boston\n",
    "from sklearn.model_selection import train_test_split\n",
    "from sklearn.neighbors import KNeighborsRegressor, KNeighborsClassifier\n",
    "from sklearn.metrics import accuracy_score, balanced_accuracy_score\n",
    "from sklearn.metrics import plot_confusion_matrix\n",
    "from sklearn.metrics import precision_score, recall_score, f1_score, classification_report\n",
    "from sklearn.metrics import confusion_matrix\n",
    "from sklearn.metrics import mean_absolute_error, mean_squared_error, mean_squared_log_error, median_absolute_error, r2_score \n",
    "from sklearn.metrics import roc_curve, roc_auc_score\n",
    "import seaborn as sns\n",
    "from sklearn.model_selection import learning_curve\n",
    "import matplotlib.pyplot as plt\n",
    "%matplotlib inline \n",
    "sns.set(style=\"ticks\")"
   ]
  },
  {
   "cell_type": "code",
   "execution_count": 3,
   "metadata": {},
   "outputs": [],
   "source": [
    "from sklearn.model_selection import KFold, RepeatedKFold, LeaveOneOut, LeavePOut, ShuffleSplit, StratifiedKFold"
   ]
  },
  {
   "cell_type": "code",
   "execution_count": 4,
   "metadata": {},
   "outputs": [],
   "source": [
    "from sklearn.model_selection import train_test_split"
   ]
  },
  {
   "cell_type": "code",
   "execution_count": 5,
   "metadata": {},
   "outputs": [],
   "source": [
    "# чтение обучающей выборки\n",
    "data = pd.read_csv('train.csv')"
   ]
  },
  {
   "cell_type": "code",
   "execution_count": 6,
   "metadata": {},
   "outputs": [],
   "source": [
    "# уберем непонятный для нас параметр, чтобы он не помешал в будущем\n",
    "data.drop(['Name','Sex','Ticket','Embarked','Cabin','PassengerId', 'Parch'], axis = 1, inplace = True)"
   ]
  },
  {
   "cell_type": "code",
   "execution_count": 7,
   "metadata": {},
   "outputs": [
    {
     "data": {
      "text/html": [
       "<div>\n",
       "<style scoped>\n",
       "    .dataframe tbody tr th:only-of-type {\n",
       "        vertical-align: middle;\n",
       "    }\n",
       "\n",
       "    .dataframe tbody tr th {\n",
       "        vertical-align: top;\n",
       "    }\n",
       "\n",
       "    .dataframe thead th {\n",
       "        text-align: right;\n",
       "    }\n",
       "</style>\n",
       "<table border=\"1\" class=\"dataframe\">\n",
       "  <thead>\n",
       "    <tr style=\"text-align: right;\">\n",
       "      <th></th>\n",
       "      <th>Survived</th>\n",
       "      <th>Pclass</th>\n",
       "      <th>Age</th>\n",
       "      <th>SibSp</th>\n",
       "      <th>Fare</th>\n",
       "    </tr>\n",
       "  </thead>\n",
       "  <tbody>\n",
       "    <tr>\n",
       "      <th>0</th>\n",
       "      <td>0</td>\n",
       "      <td>3</td>\n",
       "      <td>22.0</td>\n",
       "      <td>1</td>\n",
       "      <td>7.2500</td>\n",
       "    </tr>\n",
       "    <tr>\n",
       "      <th>1</th>\n",
       "      <td>1</td>\n",
       "      <td>1</td>\n",
       "      <td>38.0</td>\n",
       "      <td>1</td>\n",
       "      <td>71.2833</td>\n",
       "    </tr>\n",
       "    <tr>\n",
       "      <th>2</th>\n",
       "      <td>1</td>\n",
       "      <td>3</td>\n",
       "      <td>26.0</td>\n",
       "      <td>0</td>\n",
       "      <td>7.9250</td>\n",
       "    </tr>\n",
       "    <tr>\n",
       "      <th>3</th>\n",
       "      <td>1</td>\n",
       "      <td>1</td>\n",
       "      <td>35.0</td>\n",
       "      <td>1</td>\n",
       "      <td>53.1000</td>\n",
       "    </tr>\n",
       "    <tr>\n",
       "      <th>4</th>\n",
       "      <td>0</td>\n",
       "      <td>3</td>\n",
       "      <td>35.0</td>\n",
       "      <td>0</td>\n",
       "      <td>8.0500</td>\n",
       "    </tr>\n",
       "    <tr>\n",
       "      <th>...</th>\n",
       "      <td>...</td>\n",
       "      <td>...</td>\n",
       "      <td>...</td>\n",
       "      <td>...</td>\n",
       "      <td>...</td>\n",
       "    </tr>\n",
       "    <tr>\n",
       "      <th>886</th>\n",
       "      <td>0</td>\n",
       "      <td>2</td>\n",
       "      <td>27.0</td>\n",
       "      <td>0</td>\n",
       "      <td>13.0000</td>\n",
       "    </tr>\n",
       "    <tr>\n",
       "      <th>887</th>\n",
       "      <td>1</td>\n",
       "      <td>1</td>\n",
       "      <td>19.0</td>\n",
       "      <td>0</td>\n",
       "      <td>30.0000</td>\n",
       "    </tr>\n",
       "    <tr>\n",
       "      <th>888</th>\n",
       "      <td>0</td>\n",
       "      <td>3</td>\n",
       "      <td>NaN</td>\n",
       "      <td>1</td>\n",
       "      <td>23.4500</td>\n",
       "    </tr>\n",
       "    <tr>\n",
       "      <th>889</th>\n",
       "      <td>1</td>\n",
       "      <td>1</td>\n",
       "      <td>26.0</td>\n",
       "      <td>0</td>\n",
       "      <td>30.0000</td>\n",
       "    </tr>\n",
       "    <tr>\n",
       "      <th>890</th>\n",
       "      <td>0</td>\n",
       "      <td>3</td>\n",
       "      <td>32.0</td>\n",
       "      <td>0</td>\n",
       "      <td>7.7500</td>\n",
       "    </tr>\n",
       "  </tbody>\n",
       "</table>\n",
       "<p>891 rows × 5 columns</p>\n",
       "</div>"
      ],
      "text/plain": [
       "     Survived  Pclass   Age  SibSp     Fare\n",
       "0           0       3  22.0      1   7.2500\n",
       "1           1       1  38.0      1  71.2833\n",
       "2           1       3  26.0      0   7.9250\n",
       "3           1       1  35.0      1  53.1000\n",
       "4           0       3  35.0      0   8.0500\n",
       "..        ...     ...   ...    ...      ...\n",
       "886         0       2  27.0      0  13.0000\n",
       "887         1       1  19.0      0  30.0000\n",
       "888         0       3   NaN      1  23.4500\n",
       "889         1       1  26.0      0  30.0000\n",
       "890         0       3  32.0      0   7.7500\n",
       "\n",
       "[891 rows x 5 columns]"
      ]
     },
     "execution_count": 7,
     "metadata": {},
     "output_type": "execute_result"
    }
   ],
   "source": [
    "data"
   ]
  },
  {
   "cell_type": "code",
   "execution_count": 8,
   "metadata": {},
   "outputs": [
    {
     "data": {
      "text/html": [
       "<div>\n",
       "<style scoped>\n",
       "    .dataframe tbody tr th:only-of-type {\n",
       "        vertical-align: middle;\n",
       "    }\n",
       "\n",
       "    .dataframe tbody tr th {\n",
       "        vertical-align: top;\n",
       "    }\n",
       "\n",
       "    .dataframe thead th {\n",
       "        text-align: right;\n",
       "    }\n",
       "</style>\n",
       "<table border=\"1\" class=\"dataframe\">\n",
       "  <thead>\n",
       "    <tr style=\"text-align: right;\">\n",
       "      <th></th>\n",
       "      <th>Survived</th>\n",
       "      <th>Pclass</th>\n",
       "      <th>Age</th>\n",
       "      <th>SibSp</th>\n",
       "      <th>Fare</th>\n",
       "    </tr>\n",
       "  </thead>\n",
       "  <tbody>\n",
       "    <tr>\n",
       "      <th>0</th>\n",
       "      <td>0</td>\n",
       "      <td>3</td>\n",
       "      <td>22.0</td>\n",
       "      <td>1</td>\n",
       "      <td>7.2500</td>\n",
       "    </tr>\n",
       "    <tr>\n",
       "      <th>1</th>\n",
       "      <td>1</td>\n",
       "      <td>1</td>\n",
       "      <td>38.0</td>\n",
       "      <td>1</td>\n",
       "      <td>71.2833</td>\n",
       "    </tr>\n",
       "    <tr>\n",
       "      <th>2</th>\n",
       "      <td>1</td>\n",
       "      <td>3</td>\n",
       "      <td>26.0</td>\n",
       "      <td>0</td>\n",
       "      <td>7.9250</td>\n",
       "    </tr>\n",
       "    <tr>\n",
       "      <th>3</th>\n",
       "      <td>1</td>\n",
       "      <td>1</td>\n",
       "      <td>35.0</td>\n",
       "      <td>1</td>\n",
       "      <td>53.1000</td>\n",
       "    </tr>\n",
       "    <tr>\n",
       "      <th>4</th>\n",
       "      <td>0</td>\n",
       "      <td>3</td>\n",
       "      <td>35.0</td>\n",
       "      <td>0</td>\n",
       "      <td>8.0500</td>\n",
       "    </tr>\n",
       "  </tbody>\n",
       "</table>\n",
       "</div>"
      ],
      "text/plain": [
       "   Survived  Pclass   Age  SibSp     Fare\n",
       "0         0       3  22.0      1   7.2500\n",
       "1         1       1  38.0      1  71.2833\n",
       "2         1       3  26.0      0   7.9250\n",
       "3         1       1  35.0      1  53.1000\n",
       "4         0       3  35.0      0   8.0500"
      ]
     },
     "execution_count": 8,
     "metadata": {},
     "output_type": "execute_result"
    }
   ],
   "source": [
    "data = data.fillna(1)\n",
    "data.head()"
   ]
  },
  {
   "cell_type": "code",
   "execution_count": 9,
   "metadata": {},
   "outputs": [
    {
     "name": "stdout",
     "output_type": "stream",
     "text": [
      "Входные данные:\n",
      "\n",
      "    Survived  Pclass   Age  SibSp\n",
      "0       0.0     3.0  22.0    1.0\n",
      "1       1.0     1.0  38.0    1.0\n",
      "2       1.0     3.0  26.0    0.0\n",
      "3       1.0     1.0  35.0    1.0\n",
      "4       0.0     3.0  35.0    0.0 \n",
      "\n",
      "Выходные данные:\n",
      "\n",
      "       Fare\n",
      "0   7.2500\n",
      "1  71.2833\n",
      "2   7.9250\n",
      "3  53.1000\n",
      "4   8.0500\n"
     ]
    }
   ],
   "source": [
    "parts = np.split(data, [4,5], axis=1)\n",
    "X = parts[0]\n",
    "Y = parts[1]\n",
    "print('Входные данные:\\n\\n', X.head(), '\\n\\nВыходные данные:\\n\\n', Y.head())"
   ]
  },
  {
   "cell_type": "code",
   "execution_count": null,
   "metadata": {},
   "outputs": [],
   "source": []
  },
  {
   "cell_type": "markdown",
   "metadata": {},
   "source": [
    "## Разделение выборки"
   ]
  },
  {
   "cell_type": "code",
   "execution_count": 10,
   "metadata": {},
   "outputs": [],
   "source": [
    " X_train,  X_test,  Y_train,  Y_test = train_test_split(X,  Y, test_size=0.03)"
   ]
  },
  {
   "cell_type": "code",
   "execution_count": 11,
   "metadata": {},
   "outputs": [
    {
     "name": "stdout",
     "output_type": "stream",
     "text": [
      "Входные параметры обучающей выборки:\n",
      "\n",
      "      Survived  Pclass   Age  SibSp\n",
      "479       1.0     3.0   2.0    0.0\n",
      "303       1.0     2.0   1.0    0.0\n",
      "616       0.0     3.0  34.0    1.0\n",
      "43        1.0     2.0   3.0    1.0\n",
      "596       1.0     2.0   1.0    0.0 \n",
      "\n",
      "Входные параметры тестовой выборки:\n",
      "\n",
      "      Survived  Pclass   Age  SibSp\n",
      "795       0.0     2.0  39.0    0.0\n",
      "486       1.0     1.0  35.0    1.0\n",
      "378       0.0     3.0  20.0    0.0\n",
      "638       0.0     3.0  41.0    0.0\n",
      "631       0.0     3.0  51.0    0.0 \n",
      "\n",
      "Выходные параметры обучающей выборки:\n",
      "\n",
      "         Fare\n",
      "479  12.2875\n",
      "303  12.3500\n",
      "616  14.4000\n",
      "43   41.5792\n",
      "596  33.0000 \n",
      "\n",
      "Выходные параметры тестовой выборки:\n",
      "\n",
      "         Fare\n",
      "795  13.0000\n",
      "486  90.0000\n",
      "378   4.0125\n",
      "638  39.6875\n",
      "631   7.0542\n"
     ]
    }
   ],
   "source": [
    "print('Входные параметры обучающей выборки:\\n\\n',X_train.head(), \\\n",
    "      '\\n\\nВходные параметры тестовой выборки:\\n\\n', X_test.head(), \\\n",
    "      '\\n\\nВыходные параметры обучающей выборки:\\n\\n', Y_train.head(), \\\n",
    "      '\\n\\nВыходные параметры тестовой выборки:\\n\\n', Y_test.head())"
   ]
  },
  {
   "cell_type": "code",
   "execution_count": 12,
   "metadata": {},
   "outputs": [
    {
     "name": "stdout",
     "output_type": "stream",
     "text": [
      "(864, 4)\n",
      "(27, 4)\n",
      "(864, 1)\n",
      "(27, 1)\n"
     ]
    }
   ],
   "source": [
    "# Проверим правильность разделения выборки на тестовую и обучающую. Посмотрим на размеры матриц.\n",
    "print(X_train.shape)\n",
    "print(X_test.shape)\n",
    "print(Y_train.shape)\n",
    "print(Y_test.shape)"
   ]
  },
  {
   "cell_type": "markdown",
   "metadata": {},
   "source": [
    "# Модель ближайших соседей для произвольного гиперпараметра K"
   ]
  },
  {
   "cell_type": "code",
   "execution_count": 13,
   "metadata": {},
   "outputs": [],
   "source": [
    "from sklearn.neighbors import KNeighborsRegressor"
   ]
  },
  {
   "cell_type": "code",
   "execution_count": 14,
   "metadata": {},
   "outputs": [
    {
     "name": "stdout",
     "output_type": "stream",
     "text": [
      "Пример модели:\n",
      "\n",
      " KNeighborsRegressor(n_neighbors=10)\n"
     ]
    }
   ],
   "source": [
    "# Решение задачи регрессии методом 2, 5 и 10 ближайших соседей\n",
    "Regressor_2NN = KNeighborsRegressor(n_neighbors = 2) \n",
    "Regressor_5NN = KNeighborsRegressor(n_neighbors = 5)\n",
    "Regressor_10NN = KNeighborsRegressor(n_neighbors = 10) \n",
    "print('Пример модели:\\n\\n', Regressor_10NN)"
   ]
  },
  {
   "cell_type": "code",
   "execution_count": 15,
   "metadata": {},
   "outputs": [
    {
     "name": "stdout",
     "output_type": "stream",
     "text": [
      "Пример предсказанных значений:\n",
      "\n",
      " [[ 28.32208]\n",
      " [164.17042]\n",
      " [  8.46292]\n",
      " [  9.6975 ]\n",
      " [ 12.2875 ]] \n",
      " ...\n"
     ]
    }
   ],
   "source": [
    "Regressor_2NN.fit(X_train, Y_train)\n",
    "Regressor_5NN.fit(X_train, Y_train)\n",
    "Regressor_10NN.fit(X_train, Y_train)\n",
    "target_2NN = Regressor_2NN.predict(X_test)\n",
    "target_5NN = Regressor_5NN.predict(X_test)\n",
    "target_10NN = Regressor_10NN.predict(X_test)\n",
    "print('Пример предсказанных значений:\\n\\n', target_10NN[:5], '\\n ...')"
   ]
  },
  {
   "cell_type": "markdown",
   "metadata": {},
   "source": [
    "## Оценка качества регрессии (Метрики качества)"
   ]
  },
  {
   "cell_type": "code",
   "execution_count": 16,
   "metadata": {},
   "outputs": [],
   "source": [
    " from sklearn.metrics import mean_absolute_error, mean_squared_error, median_absolute_error, r2_score , accuracy_score"
   ]
  },
  {
   "cell_type": "code",
   "execution_count": 17,
   "metadata": {},
   "outputs": [
    {
     "name": "stdout",
     "output_type": "stream",
     "text": [
      "Средняя абсолютная ошибка для 2 ближайших соседей: 31.472988888888896\n",
      "Средняя абсолютная ошибка для 5 ближайших соседей: 32.95771037037037\n",
      "Средняя абсолютная ошибка для 10 ближайших соседей: 28.203220740740743\n"
     ]
    }
   ],
   "source": [
    "# Оценка средней абсолютной ошибки\n",
    "print('Средняя абсолютная ошибка для 2 ближайших соседей:',mean_absolute_error(Y_test,\n",
    "target_2NN))\n",
    "print('Средняя абсолютная ошибка для 5 ближайших соседей:',mean_absolute_error(Y_test,\n",
    "target_5NN))\n",
    "print('Средняя абсолютная ошибка для 10 ближайших соседей:',mean_absolute_error(Y_test,\n",
    "target_10NN))"
   ]
  },
  {
   "cell_type": "code",
   "execution_count": 18,
   "metadata": {},
   "outputs": [
    {
     "name": "stdout",
     "output_type": "stream",
     "text": [
      "Средняя квадратичная ошибка для 2 ближайших соседей: 3387.3015781046297\n",
      "Средняя квадратичная ошибка для 5 ближайших соседей: 3109.495564108845\n",
      "Средняя квадратичная ошибка для 10 ближайших соседей: 2783.484921066741\n"
     ]
    }
   ],
   "source": [
    "# Оценка средней квадратичной ошибки\n",
    "print('Средняя квадратичная ошибка для 2 ближайших соседей:',mean_squared_error(Y_test,\n",
    "target_2NN))\n",
    "print('Средняя квадратичная ошибка для 5 ближайших соседей:',mean_squared_error(Y_test,\n",
    "target_5NN))\n",
    "print('Средняя квадратичная ошибка для 10 ближайших соседей:',mean_squared_error(Y_test\n",
    ", target_10NN))"
   ]
  },
  {
   "cell_type": "code",
   "execution_count": 19,
   "metadata": {},
   "outputs": [
    {
     "name": "stdout",
     "output_type": "stream",
     "text": [
      "Коэффициент детерминации для 2 ближайших соседей: 0.05190108947129313\n",
      "Коэффициент детерминации для 5 ближайших соседей: 0.1296584349967852\n",
      "Коэффициент детерминации для 10 ближайших соседей: 0.22090815940482977\n"
     ]
    }
   ],
   "source": [
    "# Оценка коэффициента детерминации\n",
    "\n",
    "print('Коэффициент детерминации для 2 ближайших соседей:',r2_score(Y_test, target_2NN))\n",
    "print('Коэффициент детерминации для 5 ближайших соседей:',r2_score(Y_test, target_5NN))\n",
    "print('Коэффициент детерминации для 10 ближайших соседей:',r2_score(Y_test, target_10NN\n",
    "))"
   ]
  },
  {
   "cell_type": "code",
   "execution_count": 20,
   "metadata": {},
   "outputs": [],
   "source": [
    "## Grid Search (решетчатый поиск)"
   ]
  },
  {
   "cell_type": "code",
   "execution_count": 21,
   "metadata": {},
   "outputs": [],
   "source": [
    "from sklearn.model_selection import GridSearchCV, RandomizedSearchCV"
   ]
  },
  {
   "cell_type": "markdown",
   "metadata": {},
   "source": [
    "## Подбор гиперпараметров"
   ]
  },
  {
   "cell_type": "markdown",
   "metadata": {},
   "source": [
    "## GridSearch через среднюю квадратичную ошибку\n",
    "Рассмотрим все количества ближайших соседей от 1 до 100, чтобы найти лучший результат. Возьмем 10 фолдов."
   ]
  },
  {
   "cell_type": "code",
   "execution_count": 22,
   "metadata": {},
   "outputs": [
    {
     "data": {
      "text/plain": [
       "GridSearchCV(cv=10, estimator=KNeighborsRegressor(),\n",
       "             param_grid=[{'n_neighbors': array([  1,   2,   3,   4,   5,   6,   7,   8,   9,  10,  11,  12,  13,\n",
       "        14,  15,  16,  17,  18,  19,  20,  21,  22,  23,  24,  25,  26,\n",
       "        27,  28,  29,  30,  31,  32,  33,  34,  35,  36,  37,  38,  39,\n",
       "        40,  41,  42,  43,  44,  45,  46,  47,  48,  49,  50,  51,  52,\n",
       "        53,  54,  55,  56,  57,  58,  59,  60,  61,  62,  63,  64,  65,\n",
       "        66,  67,  68,  69,  70,  71,  72,  73,  74,  75,  76,  77,  78,\n",
       "        79,  80,  81,  82,  83,  84,  85,  86,  87,  88,  89,  90,  91,\n",
       "        92,  93,  94,  95,  96,  97,  98,  99, 100])}],\n",
       "             scoring='neg_mean_squared_error')"
      ]
     },
     "execution_count": 22,
     "metadata": {},
     "output_type": "execute_result"
    }
   ],
   "source": [
    "from sklearn.model_selection import GridSearchCV\n",
    "n_range = np.array(range(1, 101, 1))\n",
    "tuned_parameters = [{'n_neighbors': n_range}]\n",
    "gs = GridSearchCV(KNeighborsRegressor(), tuned_parameters, cv=10, scoring='neg_mean_squared_error')\n",
    "gs.fit(X_train, Y_train)"
   ]
  },
  {
   "cell_type": "code",
   "execution_count": 23,
   "metadata": {},
   "outputs": [
    {
     "name": "stdout",
     "output_type": "stream",
     "text": [
      "Лучшая модель:\n",
      "\n",
      " KNeighborsRegressor(n_neighbors=8)\n",
      "\n",
      "Лучшее число ближайших соседей:\n",
      "\n",
      " {'n_neighbors': 8}\n",
      "\n",
      "Лучшее значение средней квадратичной ошибки:\n",
      "\n",
      " -1655.7751426739408\n"
     ]
    }
   ],
   "source": [
    "print('Лучшая модель:\\n\\n', gs.best_estimator_)\n",
    "print('\\nЛучшее число ближайших соседей:\\n\\n',gs.best_params_) \n",
    "print('\\nЛучшее значение средней квадратичной ошибки:\\n\\n',gs.best_score_)"
   ]
  },
  {
   "cell_type": "code",
   "execution_count": 24,
   "metadata": {},
   "outputs": [
    {
     "name": "stdout",
     "output_type": "stream",
     "text": [
      "Изменение качества тестовой выборки в зависимости от кол-ва соседей:\n",
      "\n"
     ]
    },
    {
     "data": {
      "text/plain": [
       "[<matplotlib.lines.Line2D at 0x2d2eeb31340>]"
      ]
     },
     "execution_count": 24,
     "metadata": {},
     "output_type": "execute_result"
    },
    {
     "data": {
      "image/png": "[encoded data removed]",
      "text/plain": [
       "<Figure size 432x288 with 1 Axes>"
      ]
     },
     "metadata": {},
     "output_type": "display_data"
    }
   ],
   "source": [
    " print('Изменение качества тестовой выборки в зависимости от кол-ва соседей:\\n') \n",
    "plt.plot(n_range, gs.cv_results_['mean_test_score'])"
   ]
  },
  {
   "cell_type": "markdown",
   "metadata": {},
   "source": [
    "## GridSearch через коэффициент детерминации"
   ]
  },
  {
   "cell_type": "code",
   "execution_count": 25,
   "metadata": {},
   "outputs": [
    {
     "name": "stdout",
     "output_type": "stream",
     "text": [
      "Лучшая модель:\n",
      "\n",
      " KNeighborsRegressor(n_neighbors=8)\n",
      "\n",
      "Лучшее число ближайших соседей:\n",
      "\n",
      " {'n_neighbors': 8}\n",
      "\n",
      "Лучшее значение коэффициента детерминации:\n",
      "\n",
      " 0.30087762001100127\n",
      "\n",
      "Изменение качества тестовой выборки в зависимости от кол-ва соседей:\n",
      "\n"
     ]
    },
    {
     "data": {
      "text/plain": [
       "[<matplotlib.lines.Line2D at 0x2d2eee4d850>]"
      ]
     },
     "execution_count": 25,
     "metadata": {},
     "output_type": "execute_result"
    },
    {
     "data": {
      "image/png": "[encoded data removed]",
      "text/plain": [
       "<Figure size 432x288 with 1 Axes>"
      ]
     },
     "metadata": {},
     "output_type": "display_data"
    }
   ],
   "source": [
    "gs_det = GridSearchCV(KNeighborsRegressor(), tuned_parameters, cv=10, scoring='r2') \n",
    "gs_det.fit(X_train, Y_train)\n",
    "print('Лучшая модель:\\n\\n', gs_det.best_estimator_)\n",
    "print('\\nЛучшее число ближайших соседей:\\n\\n',gs_det.best_params_)\n",
    "print('\\nЛучшее значение коэффициента детерминации:\\n\\n',gs_det.best_score_)\n",
    "print('\\nИзменение качества тестовой выборки в зависимости от кол-ва соседей:\\n') \n",
    "plt.plot(n_range, gs_det.cv_results_['mean_test_score'])"
   ]
  },
  {
   "cell_type": "markdown",
   "metadata": {},
   "source": [
    "## Кросс-валидация"
   ]
  },
  {
   "cell_type": "code",
   "execution_count": 26,
   "metadata": {},
   "outputs": [
    {
     "name": "stdout",
     "output_type": "stream",
     "text": [
      "Пример значений коэф. детерминации для 5 фолдов для метода 10 ближайших соседей: \n",
      " [0.34166201 0.38655715 0.14117213 0.28452217 0.2883947 ] \n",
      "\n",
      "\n",
      "Усредненное значение коэффициента детерминации для:\n",
      "\n",
      "- 2 ближайших соседей: 0.18694561138232885 \n",
      "\n",
      "- 5 ближайших соседей: 0.23548126907370337 \n",
      "\n",
      "- 10 ближайших соседей: 0.28846163209364245 \n",
      "\n",
      "- 50 ближайших соседей: 0.13534843218545478 \n",
      "\n",
      "- 100 ближайших соседей: 0.05880772437701802 \n",
      "\n"
     ]
    }
   ],
   "source": [
    "from sklearn.model_selection import cross_val_score\n",
    "scores_2NN = cross_val_score(KNeighborsRegressor(n_neighbors = 2), X, Y, cv=5, scoring= 'r2')\n",
    "scores_5NN = cross_val_score(KNeighborsRegressor(n_neighbors = 5), X, Y, cv=5, scoring= 'r2')\n",
    "scores_10NN = cross_val_score(KNeighborsRegressor(n_neighbors = 10), X, Y, cv=5, scoring = 'r2')\n",
    "scores_50NN = cross_val_score(KNeighborsRegressor(n_neighbors = 50), X, Y, cv=5, scoring = 'r2')\n",
    "scores_100NN = cross_val_score(KNeighborsRegressor(n_neighbors = 100), X, Y, cv=5, scoring = 'r2')\n",
    "print('Пример значений коэф. детерминации для 5 фолдов для метода 10 ближайших соседей: \\n', scores_10NN, '\\n\\n')\n",
    "print('Усредненное значение коэффициента детерминации для:\\n') \n",
    "print('- 2 ближайших соседей:', np.mean(scores_2NN), '\\n') \n",
    "print('- 5 ближайших соседей:', np.mean(scores_5NN), '\\n') \n",
    "print('- 10 ближайших соседей:', np.mean(scores_10NN), '\\n') \n",
    "print('- 50 ближайших соседей:', np.mean(scores_50NN), '\\n') \n",
    "print('- 100 ближайших соседей:', np.mean(scores_100NN), '\\n')"
   ]
  }
 ],
 "metadata": {
  "kernelspec": {
   "display_name": "Python 3",
   "language": "python",
   "name": "python3"
  },
  "language_info": {
   "codemirror_mode": {
    "name": "ipython",
    "version": 3
   },
   "file_extension": ".py",
   "mimetype": "text/x-python",
   "name": "python",
   "nbconvert_exporter": "python",
   "pygments_lexer": "ipython3",
   "version": "3.8.5"
  }
 },
 "nbformat": 4,
 "nbformat_minor": 4
}
